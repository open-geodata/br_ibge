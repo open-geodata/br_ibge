{
 "cells": [
  {
   "cell_type": "markdown",
   "metadata": {},
   "source": [
    "# *Imports* e Funções"
   ]
  },
  {
   "cell_type": "code",
   "execution_count": null,
   "metadata": {},
   "outputs": [],
   "source": [
    "import os\n",
    "import shutil\n",
    "import zipfile\n",
    "import requests\n",
    "import geopandas as gpd"
   ]
  },
  {
   "cell_type": "code",
   "execution_count": null,
   "metadata": {},
   "outputs": [],
   "source": [
    "os.makedirs('data/brutos', exist_ok=True)"
   ]
  },
  {
   "cell_type": "markdown",
   "metadata": {},
   "source": [
    "# Dados Espaciais"
   ]
  },
  {
   "cell_type": "markdown",
   "metadata": {},
   "source": [
    "## Limites Municipais"
   ]
  },
  {
   "cell_type": "code",
   "execution_count": null,
   "metadata": {},
   "outputs": [],
   "source": [
    "# Define qual o código IBGE do Estado\n",
    "estado = 'SP'\n",
    "\n",
    "# Define o nome do arquivo que será salvo as informações do IBGE\n",
    "file = os.path.join('data', 'brutos', estado + '.zip')\n",
    "\n",
    "# URL para baixar o arquivo zip\n",
    "url = ('http://geoftp.ibge.gov.br/organizacao_do_territorio/malhas_territoriais/'+\n",
    "       'malhas_municipais/municipio_2018/UFs/'+ estado + '/' + str.lower(estado) + '_municipios.zip')\n",
    "\n",
    "print(url)"
   ]
  },
  {
   "cell_type": "code",
   "execution_count": null,
   "metadata": {},
   "outputs": [],
   "source": [
    "# Define Filename\n",
    "if url.find('/'):\n",
    "    filename = url.rsplit('/', 1)[1]\n",
    "    print(filename)"
   ]
  },
  {
   "cell_type": "code",
   "execution_count": null,
   "metadata": {},
   "outputs": [],
   "source": [
    "# Download\n",
    "r = requests.get(url, allow_redirects=True)\n",
    "open(os.path.join('data', 'brutos', filename), 'wb').write(r.content)"
   ]
  },
  {
   "cell_type": "code",
   "execution_count": null,
   "metadata": {},
   "outputs": [],
   "source": [
    "# Unzip\n",
    "file = os.path.join('data', 'brutos', filename)\n",
    "temp = os.path.join(os.path.dirname(file), 'temp')\n",
    "os.makedirs(temp, exist_ok=True)\n",
    "\n",
    "with zipfile.ZipFile(file, 'r') as zip_ref:\n",
    "    zip_ref.extractall(temp)"
   ]
  },
  {
   "cell_type": "code",
   "execution_count": null,
   "metadata": {},
   "outputs": [],
   "source": [
    "# Lista Arquivos\n",
    "os.listdir(temp)"
   ]
  },
  {
   "cell_type": "code",
   "execution_count": null,
   "metadata": {},
   "outputs": [],
   "source": [
    "# Read shapefile\n",
    "gdf = gpd.read_file(os.path.join(temp, '35MUE250GC_SIR.shp'))\n",
    "display(gdf.head(5))\n",
    "gdf.plot()"
   ]
  },
  {
   "cell_type": "code",
   "execution_count": null,
   "metadata": {},
   "outputs": [],
   "source": [
    "gdf=gdf[['CD_GEOCMU',\n",
    "         'NM_MUNICIP',\n",
    "         'geometry']]\n",
    "\n",
    "# Renomeia Colunas\n",
    "gdf = gdf.rename(columns={'NM_MUNICIP':'Nome_Municipio',\n",
    "                          'CD_GEOCMU':'ID_IBGE'})\n",
    "\n",
    "print(gdf.dtypes)\n",
    "display(gdf.head(5))"
   ]
  },
  {
   "cell_type": "code",
   "execution_count": null,
   "metadata": {},
   "outputs": [],
   "source": [
    "# Reprojeta\n",
    "print(gdf.crs)\n",
    "gdf = gdf.to_crs(epsg=4326)\n",
    "print(gdf.crs)\n",
    "gdf.plot()"
   ]
  },
  {
   "cell_type": "code",
   "execution_count": null,
   "metadata": {},
   "outputs": [],
   "source": [
    "# Salva\n",
    "gdf.to_file(os.path.join('data', 'LimiteMunicipal.geojson'), driver='GeoJSON', encoding='utf-8')\n",
    "gdf.to_file(os.path.join('data', 'LimiteMunicipal' + '.gpkg'), layer='Limite', driver='GPKG')"
   ]
  },
  {
   "cell_type": "code",
   "execution_count": null,
   "metadata": {},
   "outputs": [],
   "source": [
    "# Excluí pasta temporária\n",
    "shutil.rmtree(temp)"
   ]
  },
  {
   "cell_type": "markdown",
   "metadata": {},
   "source": [
    "# Git"
   ]
  },
  {
   "cell_type": "code",
   "execution_count": null,
   "metadata": {},
   "outputs": [],
   "source": [
    "%run '../codes/git/update_github.py'\n",
    "\n",
    "git_full('.', '.', 'Criação do repo')"
   ]
  }
 ],
 "metadata": {
  "kernelspec": {
   "display_name": "Python 3",
   "language": "python",
   "name": "python3"
  },
  "language_info": {
   "codemirror_mode": {
    "name": "ipython",
    "version": 3
   },
   "file_extension": ".py",
   "mimetype": "text/x-python",
   "name": "python",
   "nbconvert_exporter": "python",
   "pygments_lexer": "ipython3",
   "version": "3.8.2"
  },
  "toc": {
   "base_numbering": 1,
   "nav_menu": {},
   "number_sections": true,
   "sideBar": true,
   "skip_h1_title": false,
   "title_cell": "Table of Contents",
   "title_sidebar": "Contents",
   "toc_cell": false,
   "toc_position": {
    "height": "calc(100% - 180px)",
    "left": "10px",
    "top": "150px",
    "width": "223.6px"
   },
   "toc_section_display": true,
   "toc_window_display": true
  }
 },
 "nbformat": 4,
 "nbformat_minor": 2
}
