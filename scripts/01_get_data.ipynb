{
 "cells": [
  {
   "cell_type": "markdown",
   "metadata": {},
   "source": [
    "<br>\n",
    "\n",
    "# _Imports_ e Funções\n"
   ]
  },
  {
   "cell_type": "code",
   "execution_count": null,
   "metadata": {},
   "outputs": [],
   "source": [
    "import os\n",
    "import shutil\n",
    "import zipfile\n",
    "from pathlib import Path\n",
    "\n",
    "import geopandas as gpd\n",
    "import requests\n",
    "from paths import input_path, output_path"
   ]
  },
  {
   "cell_type": "markdown",
   "metadata": {},
   "source": [
    "<br>\n",
    "\n",
    "# Dados Espaciais\n"
   ]
  },
  {
   "cell_type": "markdown",
   "metadata": {},
   "source": [
    "## Limites Municipais\n"
   ]
  },
  {
   "cell_type": "code",
   "execution_count": null,
   "metadata": {},
   "outputs": [],
   "source": [
    "# Define qual o código IBGE do Estado\n",
    "estado = 'SP'\n",
    "\n",
    "# Define o nome do arquivo que será salvo as informações do IBGE\n",
    "file = input_path / f'{estado}.zip'\n",
    "\n",
    "# URL para baixar o arquivo zip\n",
    "url = f'http://geoftp.ibge.gov.br/organizacao_do_territorio/malhas_territoriais/malhas_municipais/municipio_2018/UFs/{estado}/{estado.lower()}_municipios.zip'\n",
    "\n",
    "# Print\n",
    "url"
   ]
  },
  {
   "cell_type": "code",
   "execution_count": null,
   "metadata": {},
   "outputs": [],
   "source": [
    "filename = Path(url).name\n",
    "filename"
   ]
  },
  {
   "cell_type": "code",
   "execution_count": null,
   "metadata": {},
   "outputs": [],
   "source": [
    "# Download\n",
    "r = requests.get(url, allow_redirects=True)\n",
    "open(input_path / filename, 'wb').write(r.content)"
   ]
  },
  {
   "cell_type": "code",
   "execution_count": null,
   "metadata": {},
   "outputs": [],
   "source": [
    "# Unzip\n",
    "input_file = input_path / filename\n",
    "input_file\n",
    "\n",
    "input_path_temp = input_path / 'temp'\n",
    "input_path_temp.mkdir(exist_ok=True)\n"
   ]
  },
  {
   "cell_type": "code",
   "execution_count": null,
   "metadata": {},
   "outputs": [],
   "source": [
    "with zipfile.ZipFile(input_file, 'r') as zip_ref:\n",
    "    zip_ref.extractall(input_path_temp)"
   ]
  },
  {
   "cell_type": "code",
   "execution_count": null,
   "metadata": {},
   "outputs": [],
   "source": [
    "# Lista Arquivos\n",
    "#os.listdir(temp)\n",
    "list(input_path_temp.glob('*'))"
   ]
  },
  {
   "cell_type": "code",
   "execution_count": null,
   "metadata": {},
   "outputs": [],
   "source": [
    "# Read shapefile\n",
    "gdf = gpd.read_file(input_path_temp  /'35MUE250GC_SIR.shp')\n",
    "display(gdf.head(5))\n",
    "gdf.plot()"
   ]
  },
  {
   "cell_type": "code",
   "execution_count": null,
   "metadata": {},
   "outputs": [],
   "source": [
    "gdf = gdf[['CD_GEOCMU', 'NM_MUNICIP', 'geometry']]\n",
    "\n",
    "# Renomeia Colunas\n",
    "gdf = gdf.rename(\n",
    "    columns={'NM_MUNICIP': 'nome_municipio', 'CD_GEOCMU': 'id_municipio'}\n",
    ")\n",
    "\n",
    "# Results\n",
    "print(gdf.dtypes)\n",
    "display(gdf.head(5))"
   ]
  },
  {
   "cell_type": "code",
   "execution_count": null,
   "metadata": {},
   "outputs": [],
   "source": [
    "# Reprojeta\n",
    "print(gdf.crs)\n",
    "gdf = gdf.to_crs(epsg=4326)\n",
    "print(gdf.crs)\n",
    "gdf.plot()"
   ]
  },
  {
   "cell_type": "code",
   "execution_count": null,
   "metadata": {},
   "outputs": [],
   "source": [
    "# Salva\n",
    "gdf.to_file(\n",
    "    output_path / 'limite_municipal_sp.geojson',\n",
    "    driver='GeoJSON',\n",
    "    encoding='utf-8',\n",
    ")\n",
    "gdf.to_file(\n",
    "    output_path / 'limite_municipal_sp.gpkg',\n",
    "    layer='Limite',\n",
    "    driver='GPKG',\n",
    ")"
   ]
  },
  {
   "cell_type": "code",
   "execution_count": null,
   "metadata": {},
   "outputs": [],
   "source": [
    "# Excluí pasta temporária\n",
    "shutil.rmtree(input_path_temp)"
   ]
  },
  {
   "cell_type": "code",
   "execution_count": null,
   "metadata": {},
   "outputs": [],
   "source": []
  }
 ],
 "metadata": {
  "kernelspec": {
   "display_name": "Python 3.10.6 ('pablocarreira-lastest')",
   "language": "python",
   "name": "python3"
  },
  "language_info": {
   "codemirror_mode": {
    "name": "ipython",
    "version": 3
   },
   "file_extension": ".py",
   "mimetype": "text/x-python",
   "name": "python",
   "nbconvert_exporter": "python",
   "pygments_lexer": "ipython3",
   "version": "3.9.16"
  },
  "toc": {
   "base_numbering": 1,
   "nav_menu": {},
   "number_sections": true,
   "sideBar": true,
   "skip_h1_title": false,
   "title_cell": "Table of Contents",
   "title_sidebar": "Contents",
   "toc_cell": false,
   "toc_position": {
    "height": "calc(100% - 180px)",
    "left": "10px",
    "top": "150px",
    "width": "223.6px"
   },
   "toc_section_display": true,
   "toc_window_display": true
  },
  "vscode": {
   "interpreter": {
    "hash": "4d2082c677fdf35794c222228cc7f22d43df5b8d8a9da3c3f9d9c2f356a8965c"
   }
  }
 },
 "nbformat": 4,
 "nbformat_minor": 4
}
